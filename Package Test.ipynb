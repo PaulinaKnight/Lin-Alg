{
 "cells": [
  {
   "cell_type": "markdown",
   "metadata": {},
   "source": [
    "# Dimension Reduction and PCA"
   ]
  },
  {
   "cell_type": "markdown",
   "metadata": {},
   "source": [
    "### Create 2D Data Set with 3 Variables"
   ]
  },
  {
   "cell_type": "code",
   "execution_count": 30,
   "metadata": {},
   "outputs": [
    {
     "data": {
      "text/html": [
       "<div>\n",
       "<style scoped>\n",
       "    .dataframe tbody tr th:only-of-type {\n",
       "        vertical-align: middle;\n",
       "    }\n",
       "\n",
       "    .dataframe tbody tr th {\n",
       "        vertical-align: top;\n",
       "    }\n",
       "\n",
       "    .dataframe thead th {\n",
       "        text-align: right;\n",
       "    }\n",
       "</style>\n",
       "<table border=\"1\" class=\"dataframe\">\n",
       "  <thead>\n",
       "    <tr style=\"text-align: right;\">\n",
       "      <th></th>\n",
       "      <th>x</th>\n",
       "      <th>y</th>\n",
       "      <th>z</th>\n",
       "    </tr>\n",
       "  </thead>\n",
       "  <tbody>\n",
       "    <tr>\n",
       "      <th>0</th>\n",
       "      <td>0.363635</td>\n",
       "      <td>3.016672</td>\n",
       "      <td>4.152761</td>\n",
       "    </tr>\n",
       "    <tr>\n",
       "      <th>1</th>\n",
       "      <td>5.738442</td>\n",
       "      <td>-12.364324</td>\n",
       "      <td>16.146940</td>\n",
       "    </tr>\n",
       "    <tr>\n",
       "      <th>2</th>\n",
       "      <td>-5.325400</td>\n",
       "      <td>0.904084</td>\n",
       "      <td>-23.689650</td>\n",
       "    </tr>\n",
       "    <tr>\n",
       "      <th>3</th>\n",
       "      <td>3.825537</td>\n",
       "      <td>-6.326306</td>\n",
       "      <td>12.342563</td>\n",
       "    </tr>\n",
       "    <tr>\n",
       "      <th>4</th>\n",
       "      <td>2.520025</td>\n",
       "      <td>-2.084751</td>\n",
       "      <td>9.845612</td>\n",
       "    </tr>\n",
       "    <tr>\n",
       "      <th>5</th>\n",
       "      <td>-0.641117</td>\n",
       "      <td>6.070133</td>\n",
       "      <td>2.057339</td>\n",
       "    </tr>\n",
       "    <tr>\n",
       "      <th>6</th>\n",
       "      <td>-1.472652</td>\n",
       "      <td>6.076591</td>\n",
       "      <td>-1.752623</td>\n",
       "    </tr>\n",
       "    <tr>\n",
       "      <th>7</th>\n",
       "      <td>2.052724</td>\n",
       "      <td>1.104571</td>\n",
       "      <td>10.328028</td>\n",
       "    </tr>\n",
       "    <tr>\n",
       "      <th>8</th>\n",
       "      <td>3.047726</td>\n",
       "      <td>1.373114</td>\n",
       "      <td>15.114485</td>\n",
       "    </tr>\n",
       "    <tr>\n",
       "      <th>9</th>\n",
       "      <td>4.799958</td>\n",
       "      <td>-6.863106</td>\n",
       "      <td>16.371366</td>\n",
       "    </tr>\n",
       "    <tr>\n",
       "      <th>10</th>\n",
       "      <td>3.176400</td>\n",
       "      <td>-1.487414</td>\n",
       "      <td>13.349143</td>\n",
       "    </tr>\n",
       "    <tr>\n",
       "      <th>11</th>\n",
       "      <td>-1.642318</td>\n",
       "      <td>6.040402</td>\n",
       "      <td>-2.560891</td>\n",
       "    </tr>\n",
       "    <tr>\n",
       "      <th>12</th>\n",
       "      <td>-1.438255</td>\n",
       "      <td>5.504253</td>\n",
       "      <td>-2.066138</td>\n",
       "    </tr>\n",
       "    <tr>\n",
       "      <th>13</th>\n",
       "      <td>1.451735</td>\n",
       "      <td>6.142129</td>\n",
       "      <td>11.719125</td>\n",
       "    </tr>\n",
       "    <tr>\n",
       "      <th>14</th>\n",
       "      <td>-2.747204</td>\n",
       "      <td>3.805380</td>\n",
       "      <td>-9.470975</td>\n",
       "    </tr>\n",
       "  </tbody>\n",
       "</table>\n",
       "</div>"
      ],
      "text/plain": [
       "           x          y          z\n",
       "0   0.363635   3.016672   4.152761\n",
       "1   5.738442 -12.364324  16.146940\n",
       "2  -5.325400   0.904084 -23.689650\n",
       "3   3.825537  -6.326306  12.342563\n",
       "4   2.520025  -2.084751   9.845612\n",
       "5  -0.641117   6.070133   2.057339\n",
       "6  -1.472652   6.076591  -1.752623\n",
       "7   2.052724   1.104571  10.328028\n",
       "8   3.047726   1.373114  15.114485\n",
       "9   4.799958  -6.863106  16.371366\n",
       "10  3.176400  -1.487414  13.349143\n",
       "11 -1.642318   6.040402  -2.560891\n",
       "12 -1.438255   5.504253  -2.066138\n",
       "13  1.451735   6.142129  11.719125\n",
       "14 -2.747204   3.805380  -9.470975"
      ]
     },
     "execution_count": 30,
     "metadata": {},
     "output_type": "execute_result"
    }
   ],
   "source": [
    "import pandas as pd \n",
    "import numpy as np\n",
    "import matplotlib.pyplot as plt\n",
    "from sklearn.preprocessing import StandardScaler\n",
    "%matplotlib inline\n",
    "\n",
    "a = np.random.normal(0, 1, 100) \n",
    "b = np.random.normal(0, 1, 100)\n",
    "\n",
    "x = (3*a) - (2*b)\n",
    "y = (-7*a) - b\n",
    "z = (8*a) - (10*b)\n",
    "\n",
    "A = np.row_stack([x, y, z]) #places data into a matrix stacking each variable as a row (not column)\n",
    "A = A.T #correct format for PCA\n",
    "df = pd.DataFrame(data= A\n",
    "                 , columns =['x','y','z'])\n",
    "df.head(15)"
   ]
  },
  {
   "cell_type": "markdown",
   "metadata": {},
   "source": [
    "### Standardize Data"
   ]
  },
  {
   "cell_type": "code",
   "execution_count": 32,
   "metadata": {},
   "outputs": [
    {
     "data": {
      "text/html": [
       "<div>\n",
       "<style scoped>\n",
       "    .dataframe tbody tr th:only-of-type {\n",
       "        vertical-align: middle;\n",
       "    }\n",
       "\n",
       "    .dataframe tbody tr th {\n",
       "        vertical-align: top;\n",
       "    }\n",
       "\n",
       "    .dataframe thead th {\n",
       "        text-align: right;\n",
       "    }\n",
       "</style>\n",
       "<table border=\"1\" class=\"dataframe\">\n",
       "  <thead>\n",
       "    <tr style=\"text-align: right;\">\n",
       "      <th></th>\n",
       "      <th>x</th>\n",
       "      <th>y</th>\n",
       "      <th>z</th>\n",
       "    </tr>\n",
       "  </thead>\n",
       "  <tbody>\n",
       "    <tr>\n",
       "      <th>0</th>\n",
       "      <td>-0.069052</td>\n",
       "      <td>0.653743</td>\n",
       "      <td>0.196079</td>\n",
       "    </tr>\n",
       "    <tr>\n",
       "      <th>1</th>\n",
       "      <td>1.546462</td>\n",
       "      <td>-1.792617</td>\n",
       "      <td>1.205066</td>\n",
       "    </tr>\n",
       "    <tr>\n",
       "      <th>2</th>\n",
       "      <td>-1.779013</td>\n",
       "      <td>0.317734</td>\n",
       "      <td>-2.146110</td>\n",
       "    </tr>\n",
       "    <tr>\n",
       "      <th>3</th>\n",
       "      <td>0.971497</td>\n",
       "      <td>-0.832265</td>\n",
       "      <td>0.885030</td>\n",
       "    </tr>\n",
       "    <tr>\n",
       "      <th>4</th>\n",
       "      <td>0.579098</td>\n",
       "      <td>-0.157643</td>\n",
       "      <td>0.674979</td>\n",
       "    </tr>\n",
       "    <tr>\n",
       "      <th>5</th>\n",
       "      <td>-0.371051</td>\n",
       "      <td>1.139398</td>\n",
       "      <td>0.019806</td>\n",
       "    </tr>\n",
       "    <tr>\n",
       "      <th>6</th>\n",
       "      <td>-0.620987</td>\n",
       "      <td>1.140425</td>\n",
       "      <td>-0.300700</td>\n",
       "    </tr>\n",
       "    <tr>\n",
       "      <th>7</th>\n",
       "      <td>0.438640</td>\n",
       "      <td>0.349622</td>\n",
       "      <td>0.715562</td>\n",
       "    </tr>\n",
       "    <tr>\n",
       "      <th>8</th>\n",
       "      <td>0.737710</td>\n",
       "      <td>0.392334</td>\n",
       "      <td>1.118213</td>\n",
       "    </tr>\n",
       "    <tr>\n",
       "      <th>9</th>\n",
       "      <td>1.264380</td>\n",
       "      <td>-0.917644</td>\n",
       "      <td>1.223946</td>\n",
       "    </tr>\n",
       "    <tr>\n",
       "      <th>10</th>\n",
       "      <td>0.776385</td>\n",
       "      <td>-0.062636</td>\n",
       "      <td>0.969707</td>\n",
       "    </tr>\n",
       "    <tr>\n",
       "      <th>11</th>\n",
       "      <td>-0.671984</td>\n",
       "      <td>1.134670</td>\n",
       "      <td>-0.368694</td>\n",
       "    </tr>\n",
       "    <tr>\n",
       "      <th>12</th>\n",
       "      <td>-0.610648</td>\n",
       "      <td>1.049395</td>\n",
       "      <td>-0.327074</td>\n",
       "    </tr>\n",
       "    <tr>\n",
       "      <th>13</th>\n",
       "      <td>0.258000</td>\n",
       "      <td>1.150849</td>\n",
       "      <td>0.832585</td>\n",
       "    </tr>\n",
       "    <tr>\n",
       "      <th>14</th>\n",
       "      <td>-1.004081</td>\n",
       "      <td>0.779188</td>\n",
       "      <td>-0.949991</td>\n",
       "    </tr>\n",
       "  </tbody>\n",
       "</table>\n",
       "</div>"
      ],
      "text/plain": [
       "           x         y         z\n",
       "0  -0.069052  0.653743  0.196079\n",
       "1   1.546462 -1.792617  1.205066\n",
       "2  -1.779013  0.317734 -2.146110\n",
       "3   0.971497 -0.832265  0.885030\n",
       "4   0.579098 -0.157643  0.674979\n",
       "5  -0.371051  1.139398  0.019806\n",
       "6  -0.620987  1.140425 -0.300700\n",
       "7   0.438640  0.349622  0.715562\n",
       "8   0.737710  0.392334  1.118213\n",
       "9   1.264380 -0.917644  1.223946\n",
       "10  0.776385 -0.062636  0.969707\n",
       "11 -0.671984  1.134670 -0.368694\n",
       "12 -0.610648  1.049395 -0.327074\n",
       "13  0.258000  1.150849  0.832585\n",
       "14 -1.004081  0.779188 -0.949991"
      ]
     },
     "execution_count": 32,
     "metadata": {},
     "output_type": "execute_result"
    }
   ],
   "source": [
    "features = ['x', 'y', 'z']\n",
    "\n",
    "# Separating out the features\n",
    "A = df.loc[:, features].values #df.loc accesses a group of rows or columns\n",
    "\n",
    "# Standardizing the features by subtracting the mean\n",
    "A1 = StandardScaler().fit_transform(A)\n",
    "\n",
    "pd.DataFrame(data = A1, columns = features).head(15)"
   ]
  },
  {
   "cell_type": "markdown",
   "metadata": {},
   "source": [
    "### Find Covariance Matrix"
   ]
  },
  {
   "cell_type": "code",
   "execution_count": 34,
   "metadata": {},
   "outputs": [
    {
     "name": "stdout",
     "output_type": "stream",
     "text": [
      "[[ 1.01010101 -0.75734188  0.96723748]\n",
      " [-0.75734188  1.01010101 -0.53256445]\n",
      " [ 0.96723748 -0.53256445  1.01010101]]\n"
     ]
    },
    {
     "data": {
      "text/plain": [
       "(3, 3)"
      ]
     },
     "execution_count": 34,
     "metadata": {},
     "output_type": "execute_result"
    }
   ],
   "source": [
    "M = np.cov(A1.T)\n",
    "print(M)\n",
    "M.shape"
   ]
  },
  {
   "cell_type": "markdown",
   "metadata": {},
   "source": [
    "### Find Eigenvalues and Eigenvectors"
   ]
  },
  {
   "cell_type": "code",
   "execution_count": 35,
   "metadata": {},
   "outputs": [
    {
     "name": "stdout",
     "output_type": "stream",
     "text": [
      "[2.52881414e+00 2.57498016e-17 5.01488889e-01]\n",
      "[[ 0.62814983 -0.76216689  0.15661873]\n",
      " [-0.51711752 -0.25852073  0.81593903]\n",
      " [ 0.58139252  0.59352225  0.5565196 ]]\n"
     ]
    }
   ],
   "source": [
    "e, v = np.linalg.eig(M) #command finds the eigenvalues and vectors associated, stores them separately into e and then v\n",
    "print (e)\n",
    "print (v)"
   ]
  },
  {
   "cell_type": "markdown",
   "metadata": {},
   "source": [
    "### Sort Eigenvalues/vectors Largest to Smallest"
   ]
  },
  {
   "cell_type": "code",
   "execution_count": 36,
   "metadata": {},
   "outputs": [],
   "source": [
    "idx = np.argsort(e)[::-1]\n",
    "e = e[idx] #orders eigen values based on index of largest to smallest eigenvalues\n",
    "e = np.real_if_close(e) #adjusts eigenvalues to be real numbers\n",
    "v = v[:, idx] #adjusts the eigenvectors to correspond to eigenvalues"
   ]
  },
  {
   "cell_type": "markdown",
   "metadata": {},
   "source": [
    "### Determine Amount of Variance and Select Principle Components"
   ]
  },
  {
   "cell_type": "code",
   "execution_count": 41,
   "metadata": {},
   "outputs": [
    {
     "name": "stdout",
     "output_type": "stream",
     "text": [
      "[0.83450867 0.16549133]\n"
     ]
    }
   ],
   "source": [
    "expvar = e/e.sum() #will give the percent of variance covered by each eigenvalue/vector\n",
    "print(expvar) "
   ]
  },
  {
   "cell_type": "markdown",
   "metadata": {},
   "source": [
    "### Selecting PCs"
   ]
  },
  {
   "cell_type": "code",
   "execution_count": 42,
   "metadata": {},
   "outputs": [
    {
     "name": "stdout",
     "output_type": "stream",
     "text": [
      "[2.52881414 0.50148889]\n",
      "[[ 0.62814983  0.15661873 -0.76216689]\n",
      " [-0.51711752  0.81593903 -0.25852073]]\n"
     ]
    },
    {
     "data": {
      "text/plain": [
       "(2, 3)"
      ]
     },
     "execution_count": 42,
     "metadata": {},
     "output_type": "execute_result"
    }
   ],
   "source": [
    "cutoff = 0.05\n",
    "cutind = np.where(expvar > cutoff)\n",
    "e = e[cutind]\n",
    "print(e)\n",
    "v = v[cutind]\n",
    "print(v)\n",
    "v.shape"
   ]
  },
  {
   "cell_type": "markdown",
   "metadata": {},
   "source": [
    "### Dimension Reduction and Change of Basis for PCA\n",
    "In this section we will perform matrix multiplication of the standardized data and the vectors of the principal components to get a new data matrix that will have n rows and m columns (where n= # of observations, and m= # of PCs)"
   ]
  },
  {
   "cell_type": "code",
   "execution_count": 39,
   "metadata": {},
   "outputs": [
    {
     "data": {
      "text/html": [
       "<div>\n",
       "<style scoped>\n",
       "    .dataframe tbody tr th:only-of-type {\n",
       "        vertical-align: middle;\n",
       "    }\n",
       "\n",
       "    .dataframe tbody tr th {\n",
       "        vertical-align: top;\n",
       "    }\n",
       "\n",
       "    .dataframe thead th {\n",
       "        text-align: right;\n",
       "    }\n",
       "</style>\n",
       "<table border=\"1\" class=\"dataframe\">\n",
       "  <thead>\n",
       "    <tr style=\"text-align: right;\">\n",
       "      <th></th>\n",
       "      <th>PC 1</th>\n",
       "      <th>PC 2</th>\n",
       "    </tr>\n",
       "  </thead>\n",
       "  <tbody>\n",
       "    <tr>\n",
       "      <th>0</th>\n",
       "      <td>-0.090431</td>\n",
       "      <td>0.518432</td>\n",
       "    </tr>\n",
       "    <tr>\n",
       "      <th>1</th>\n",
       "      <td>-0.227809</td>\n",
       "      <td>-2.573903</td>\n",
       "    </tr>\n",
       "    <tr>\n",
       "      <th>2</th>\n",
       "      <td>0.567970</td>\n",
       "      <td>1.734024</td>\n",
       "    </tr>\n",
       "    <tr>\n",
       "      <th>3</th>\n",
       "      <td>-0.194643</td>\n",
       "      <td>-1.410255</td>\n",
       "    </tr>\n",
       "    <tr>\n",
       "      <th>4</th>\n",
       "      <td>-0.175376</td>\n",
       "      <td>-0.602584</td>\n",
       "    </tr>\n",
       "    <tr>\n",
       "      <th>5</th>\n",
       "      <td>-0.069720</td>\n",
       "      <td>1.116436</td>\n",
       "    </tr>\n",
       "    <tr>\n",
       "      <th>6</th>\n",
       "      <td>0.017723</td>\n",
       "      <td>1.329378</td>\n",
       "    </tr>\n",
       "    <tr>\n",
       "      <th>7</th>\n",
       "      <td>-0.215088</td>\n",
       "      <td>-0.126546</td>\n",
       "    </tr>\n",
       "    <tr>\n",
       "      <th>8</th>\n",
       "      <td>-0.327426</td>\n",
       "      <td>-0.350443</td>\n",
       "    </tr>\n",
       "    <tr>\n",
       "      <th>9</th>\n",
       "      <td>-0.282351</td>\n",
       "      <td>-1.718990</td>\n",
       "    </tr>\n",
       "    <tr>\n",
       "      <th>10</th>\n",
       "      <td>-0.261202</td>\n",
       "      <td>-0.703279</td>\n",
       "    </tr>\n",
       "    <tr>\n",
       "      <th>11</th>\n",
       "      <td>0.036610</td>\n",
       "      <td>1.368631</td>\n",
       "    </tr>\n",
       "    <tr>\n",
       "      <th>12</th>\n",
       "      <td>0.030061</td>\n",
       "      <td>1.256574</td>\n",
       "    </tr>\n",
       "    <tr>\n",
       "      <th>13</th>\n",
       "      <td>-0.292261</td>\n",
       "      <td>0.590366</td>\n",
       "    </tr>\n",
       "    <tr>\n",
       "      <th>14</th>\n",
       "      <td>0.215374</td>\n",
       "      <td>1.400590</td>\n",
       "    </tr>\n",
       "  </tbody>\n",
       "</table>\n",
       "</div>"
      ],
      "text/plain": [
       "        PC 1      PC 2\n",
       "0  -0.090431  0.518432\n",
       "1  -0.227809 -2.573903\n",
       "2   0.567970  1.734024\n",
       "3  -0.194643 -1.410255\n",
       "4  -0.175376 -0.602584\n",
       "5  -0.069720  1.116436\n",
       "6   0.017723  1.329378\n",
       "7  -0.215088 -0.126546\n",
       "8  -0.327426 -0.350443\n",
       "9  -0.282351 -1.718990\n",
       "10 -0.261202 -0.703279\n",
       "11  0.036610  1.368631\n",
       "12  0.030061  1.256574\n",
       "13 -0.292261  0.590366\n",
       "14  0.215374  1.400590"
      ]
     },
     "execution_count": 39,
     "metadata": {},
     "output_type": "execute_result"
    }
   ],
   "source": [
    "PCdata = A1.dot(v.T)\n",
    "PCdata.shape\n",
    "principalDf = pd.DataFrame(data = PCdata\n",
    "             , columns = ['PC 1', 'PC 2'])\n",
    "principalDf.head(15)"
   ]
  },
  {
   "cell_type": "markdown",
   "metadata": {},
   "source": [
    "### Plot Data in Reduced Dimensions"
   ]
  },
  {
   "cell_type": "code",
   "execution_count": 43,
   "metadata": {},
   "outputs": [
    {
     "data": {
      "image/png": "[encoded data removed]",
      "text/plain": [
       "<Figure size 576x576 with 1 Axes>"
      ]
     },
     "metadata": {},
     "output_type": "display_data"
    }
   ],
   "source": [
    "fig = plt.figure(figsize = (8,8))\n",
    "ax = fig.add_subplot(1,1,1) \n",
    "ax.set_xlabel('Principal Component 1', fontsize = 15)\n",
    "ax.set_ylabel('Principal Component 2', fontsize = 15)\n",
    "ax.set_title('2 Component PCA', fontsize = 20)\n",
    "\n",
    "ax.scatter(principalDf.loc[:, 'PC 1']\n",
    "               , principalDf.loc[:, 'PC 2']\n",
    "               , s = 50)\n",
    "ax.grid()"
   ]
  },
  {
   "cell_type": "markdown",
   "metadata": {},
   "source": [
    "## Test against PCA packages"
   ]
  },
  {
   "cell_type": "code",
   "execution_count": 44,
   "metadata": {},
   "outputs": [
    {
     "data": {
      "text/html": [
       "<div>\n",
       "<style scoped>\n",
       "    .dataframe tbody tr th:only-of-type {\n",
       "        vertical-align: middle;\n",
       "    }\n",
       "\n",
       "    .dataframe tbody tr th {\n",
       "        vertical-align: top;\n",
       "    }\n",
       "\n",
       "    .dataframe thead th {\n",
       "        text-align: right;\n",
       "    }\n",
       "</style>\n",
       "<table border=\"1\" class=\"dataframe\">\n",
       "  <thead>\n",
       "    <tr style=\"text-align: right;\">\n",
       "      <th></th>\n",
       "      <th>PC 1</th>\n",
       "      <th>PC 2</th>\n",
       "    </tr>\n",
       "  </thead>\n",
       "  <tbody>\n",
       "    <tr>\n",
       "      <th>0</th>\n",
       "      <td>0.267438</td>\n",
       "      <td>0.631721</td>\n",
       "    </tr>\n",
       "    <tr>\n",
       "      <th>1</th>\n",
       "      <td>-2.599020</td>\n",
       "      <td>-0.549818</td>\n",
       "    </tr>\n",
       "    <tr>\n",
       "      <th>2</th>\n",
       "      <td>2.529525</td>\n",
       "      <td>-1.213728</td>\n",
       "    </tr>\n",
       "    <tr>\n",
       "      <th>3</th>\n",
       "      <td>-1.555175</td>\n",
       "      <td>-0.034386</td>\n",
       "    </tr>\n",
       "    <tr>\n",
       "      <th>4</th>\n",
       "      <td>-0.837708</td>\n",
       "      <td>0.337710</td>\n",
       "    </tr>\n",
       "    <tr>\n",
       "      <th>5</th>\n",
       "      <td>0.810764</td>\n",
       "      <td>0.882588</td>\n",
       "    </tr>\n",
       "    <tr>\n",
       "      <th>6</th>\n",
       "      <td>1.154632</td>\n",
       "      <td>0.665914</td>\n",
       "    </tr>\n",
       "    <tr>\n",
       "      <th>7</th>\n",
       "      <td>-0.510759</td>\n",
       "      <td>0.752193</td>\n",
       "    </tr>\n",
       "    <tr>\n",
       "      <th>8</th>\n",
       "      <td>-0.910630</td>\n",
       "      <td>1.057967</td>\n",
       "    </tr>\n",
       "    <tr>\n",
       "      <th>9</th>\n",
       "      <td>-1.980343</td>\n",
       "      <td>0.130434</td>\n",
       "    </tr>\n",
       "    <tr>\n",
       "      <th>10</th>\n",
       "      <td>-1.083857</td>\n",
       "      <td>0.610151</td>\n",
       "    </tr>\n",
       "    <tr>\n",
       "      <th>11</th>\n",
       "      <td>1.223220</td>\n",
       "      <td>0.615391</td>\n",
       "    </tr>\n",
       "    <tr>\n",
       "      <th>12</th>\n",
       "      <td>1.116397</td>\n",
       "      <td>0.578580</td>\n",
       "    </tr>\n",
       "    <tr>\n",
       "      <th>13</th>\n",
       "      <td>-0.050997</td>\n",
       "      <td>1.442780</td>\n",
       "    </tr>\n",
       "    <tr>\n",
       "      <th>14</th>\n",
       "      <td>1.585963</td>\n",
       "      <td>-0.050177</td>\n",
       "    </tr>\n",
       "  </tbody>\n",
       "</table>\n",
       "</div>"
      ],
      "text/plain": [
       "        PC 1      PC 2\n",
       "0   0.267438  0.631721\n",
       "1  -2.599020 -0.549818\n",
       "2   2.529525 -1.213728\n",
       "3  -1.555175 -0.034386\n",
       "4  -0.837708  0.337710\n",
       "5   0.810764  0.882588\n",
       "6   1.154632  0.665914\n",
       "7  -0.510759  0.752193\n",
       "8  -0.910630  1.057967\n",
       "9  -1.980343  0.130434\n",
       "10 -1.083857  0.610151\n",
       "11  1.223220  0.615391\n",
       "12  1.116397  0.578580\n",
       "13 -0.050997  1.442780\n",
       "14  1.585963 -0.050177"
      ]
     },
     "execution_count": 44,
     "metadata": {},
     "output_type": "execute_result"
    }
   ],
   "source": [
    "from sklearn.decomposition import PCA\n",
    "\n",
    "A2 = StandardScaler().fit_transform(A) #subtracts the mean\n",
    "\n",
    "pca = PCA(n_components=2) #choosing 2 principal components and assigning them to the variable \"pca\"\n",
    "principalComponents = pca.fit_transform(A2) #gives you 2D data, with 2 principle components\n",
    "\n",
    "principalDf1 = pd.DataFrame(data = principalComponents\n",
    "             , columns = ['PC 1', 'PC 2'])\n",
    "\n",
    "principalDf1.head(15)"
   ]
  },
  {
   "cell_type": "code",
   "execution_count": 45,
   "metadata": {},
   "outputs": [
    {
     "data": {
      "image/png": "[encoded data removed]",
      "text/plain": [
       "<Figure size 576x576 with 1 Axes>"
      ]
     },
     "metadata": {},
     "output_type": "display_data"
    }
   ],
   "source": [
    "fig = plt.figure(figsize = (8,8))\n",
    "ax = fig.add_subplot(1,1,1) \n",
    "ax.set_xlabel('Principal Component 1', fontsize = 15)\n",
    "ax.set_ylabel('Principal Component 2', fontsize = 15)\n",
    "ax.set_title('2 Component PCA', fontsize = 20)\n",
    "\n",
    "ax.scatter(principalDf1.loc[:, 'PC 1']\n",
    "               , principalDf1.loc[:, 'PC 2']\n",
    "               , s = 50)\n",
    "ax.grid()"
   ]
  },
  {
   "cell_type": "code",
   "execution_count": null,
   "metadata": {},
   "outputs": [],
   "source": []
  }
 ],
 "metadata": {
  "kernelspec": {
   "display_name": "Python 3",
   "language": "python",
   "name": "python3"
  },
  "language_info": {
   "codemirror_mode": {
    "name": "ipython",
    "version": 3
   },
   "file_extension": ".py",
   "mimetype": "text/x-python",
   "name": "python",
   "nbconvert_exporter": "python",
   "pygments_lexer": "ipython3",
   "version": "3.6.5"
  }
 },
 "nbformat": 4,
 "nbformat_minor": 2
}
