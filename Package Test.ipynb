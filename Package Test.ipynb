{
 "cells": [
  {
   "cell_type": "markdown",
   "metadata": {},
   "source": [
    "# Dimension Reduction and PCA"
   ]
  },
  {
   "cell_type": "markdown",
   "metadata": {},
   "source": [
    "### Create 3D Dataset with 2 Variables"
   ]
  },
  {
   "cell_type": "code",
   "execution_count": 1,
   "metadata": {},
   "outputs": [
    {
     "data": {
      "text/html": [
       "<div>\n",
       "<style scoped>\n",
       "    .dataframe tbody tr th:only-of-type {\n",
       "        vertical-align: middle;\n",
       "    }\n",
       "\n",
       "    .dataframe tbody tr th {\n",
       "        vertical-align: top;\n",
       "    }\n",
       "\n",
       "    .dataframe thead th {\n",
       "        text-align: right;\n",
       "    }\n",
       "</style>\n",
       "<table border=\"1\" class=\"dataframe\">\n",
       "  <thead>\n",
       "    <tr style=\"text-align: right;\">\n",
       "      <th></th>\n",
       "      <th>x</th>\n",
       "      <th>y</th>\n",
       "      <th>z</th>\n",
       "    </tr>\n",
       "  </thead>\n",
       "  <tbody>\n",
       "    <tr>\n",
       "      <th>0</th>\n",
       "      <td>-2.765682</td>\n",
       "      <td>1.598498</td>\n",
       "      <td>-11.373190</td>\n",
       "    </tr>\n",
       "    <tr>\n",
       "      <th>1</th>\n",
       "      <td>0.420065</td>\n",
       "      <td>-1.442333</td>\n",
       "      <td>0.739554</td>\n",
       "    </tr>\n",
       "    <tr>\n",
       "      <th>2</th>\n",
       "      <td>0.064037</td>\n",
       "      <td>2.813549</td>\n",
       "      <td>2.610857</td>\n",
       "    </tr>\n",
       "    <tr>\n",
       "      <th>3</th>\n",
       "      <td>0.260346</td>\n",
       "      <td>-8.748258</td>\n",
       "      <td>-6.009919</td>\n",
       "    </tr>\n",
       "    <tr>\n",
       "      <th>4</th>\n",
       "      <td>-1.246650</td>\n",
       "      <td>-7.425972</td>\n",
       "      <td>-11.835431</td>\n",
       "    </tr>\n",
       "    <tr>\n",
       "      <th>5</th>\n",
       "      <td>1.901673</td>\n",
       "      <td>6.792714</td>\n",
       "      <td>14.319324</td>\n",
       "    </tr>\n",
       "    <tr>\n",
       "      <th>6</th>\n",
       "      <td>-4.201777</td>\n",
       "      <td>13.017509</td>\n",
       "      <td>-8.558442</td>\n",
       "    </tr>\n",
       "    <tr>\n",
       "      <th>7</th>\n",
       "      <td>-7.012180</td>\n",
       "      <td>10.346667</td>\n",
       "      <td>-23.652749</td>\n",
       "    </tr>\n",
       "    <tr>\n",
       "      <th>8</th>\n",
       "      <td>-1.807960</td>\n",
       "      <td>3.914268</td>\n",
       "      <td>-5.071832</td>\n",
       "    </tr>\n",
       "    <tr>\n",
       "      <th>9</th>\n",
       "      <td>9.429336</td>\n",
       "      <td>-8.041289</td>\n",
       "      <td>36.641774</td>\n",
       "    </tr>\n",
       "    <tr>\n",
       "      <th>10</th>\n",
       "      <td>6.604769</td>\n",
       "      <td>-6.619715</td>\n",
       "      <td>24.852702</td>\n",
       "    </tr>\n",
       "    <tr>\n",
       "      <th>11</th>\n",
       "      <td>4.338221</td>\n",
       "      <td>-5.682696</td>\n",
       "      <td>15.224909</td>\n",
       "    </tr>\n",
       "    <tr>\n",
       "      <th>12</th>\n",
       "      <td>1.045023</td>\n",
       "      <td>-4.843347</td>\n",
       "      <td>0.806171</td>\n",
       "    </tr>\n",
       "    <tr>\n",
       "      <th>13</th>\n",
       "      <td>4.642484</td>\n",
       "      <td>-10.218060</td>\n",
       "      <td>12.885938</td>\n",
       "    </tr>\n",
       "    <tr>\n",
       "      <th>14</th>\n",
       "      <td>3.678371</td>\n",
       "      <td>3.619661</td>\n",
       "      <td>19.858130</td>\n",
       "    </tr>\n",
       "  </tbody>\n",
       "</table>\n",
       "</div>"
      ],
      "text/plain": [
       "           x          y          z\n",
       "0  -2.765682   1.598498 -11.373190\n",
       "1   0.420065  -1.442333   0.739554\n",
       "2   0.064037   2.813549   2.610857\n",
       "3   0.260346  -8.748258  -6.009919\n",
       "4  -1.246650  -7.425972 -11.835431\n",
       "5   1.901673   6.792714  14.319324\n",
       "6  -4.201777  13.017509  -8.558442\n",
       "7  -7.012180  10.346667 -23.652749\n",
       "8  -1.807960   3.914268  -5.071832\n",
       "9   9.429336  -8.041289  36.641774\n",
       "10  6.604769  -6.619715  24.852702\n",
       "11  4.338221  -5.682696  15.224909\n",
       "12  1.045023  -4.843347   0.806171\n",
       "13  4.642484 -10.218060  12.885938\n",
       "14  3.678371   3.619661  19.858130"
      ]
     },
     "execution_count": 1,
     "metadata": {},
     "output_type": "execute_result"
    }
   ],
   "source": [
    "import pandas as pd \n",
    "import numpy as np\n",
    "import matplotlib.pyplot as plt\n",
    "from sklearn.preprocessing import StandardScaler\n",
    "%matplotlib inline\n",
    "\n",
    "a = np.random.normal(0, 1, 100) \n",
    "b = np.random.normal(0, 1, 100)\n",
    "\n",
    "x = (3*a) - (2*b)\n",
    "y = (-7*a) - b\n",
    "z = (8*a) - (10*b)\n",
    "\n",
    "A = np.row_stack([x, y, z]) #places data into a matrix stacking each variable as a row\n",
    "A = A.T\n",
    "df = pd.DataFrame(data= A\n",
    "                 , columns =['x','y','z'])\n",
    "df.head(15)"
   ]
  },
  {
   "cell_type": "markdown",
   "metadata": {},
   "source": [
    "### Standardize Data"
   ]
  },
  {
   "cell_type": "code",
   "execution_count": 2,
   "metadata": {},
   "outputs": [
    {
     "data": {
      "text/html": [
       "<div>\n",
       "<style scoped>\n",
       "    .dataframe tbody tr th:only-of-type {\n",
       "        vertical-align: middle;\n",
       "    }\n",
       "\n",
       "    .dataframe tbody tr th {\n",
       "        vertical-align: top;\n",
       "    }\n",
       "\n",
       "    .dataframe thead th {\n",
       "        text-align: right;\n",
       "    }\n",
       "</style>\n",
       "<table border=\"1\" class=\"dataframe\">\n",
       "  <thead>\n",
       "    <tr style=\"text-align: right;\">\n",
       "      <th></th>\n",
       "      <th>x</th>\n",
       "      <th>y</th>\n",
       "      <th>z</th>\n",
       "    </tr>\n",
       "  </thead>\n",
       "  <tbody>\n",
       "    <tr>\n",
       "      <th>0</th>\n",
       "      <td>-2.745019</td>\n",
       "      <td>1.556798</td>\n",
       "      <td>-11.312724</td>\n",
       "    </tr>\n",
       "    <tr>\n",
       "      <th>1</th>\n",
       "      <td>0.440728</td>\n",
       "      <td>-1.484032</td>\n",
       "      <td>0.800020</td>\n",
       "    </tr>\n",
       "    <tr>\n",
       "      <th>2</th>\n",
       "      <td>0.084700</td>\n",
       "      <td>2.771850</td>\n",
       "      <td>2.671322</td>\n",
       "    </tr>\n",
       "    <tr>\n",
       "      <th>3</th>\n",
       "      <td>0.281009</td>\n",
       "      <td>-8.789957</td>\n",
       "      <td>-5.949453</td>\n",
       "    </tr>\n",
       "    <tr>\n",
       "      <th>4</th>\n",
       "      <td>-1.225987</td>\n",
       "      <td>-7.467672</td>\n",
       "      <td>-11.774966</td>\n",
       "    </tr>\n",
       "    <tr>\n",
       "      <th>5</th>\n",
       "      <td>1.922336</td>\n",
       "      <td>6.751015</td>\n",
       "      <td>14.379789</td>\n",
       "    </tr>\n",
       "    <tr>\n",
       "      <th>6</th>\n",
       "      <td>-4.181114</td>\n",
       "      <td>12.975809</td>\n",
       "      <td>-8.497976</td>\n",
       "    </tr>\n",
       "    <tr>\n",
       "      <th>7</th>\n",
       "      <td>-6.991517</td>\n",
       "      <td>10.304967</td>\n",
       "      <td>-23.592283</td>\n",
       "    </tr>\n",
       "    <tr>\n",
       "      <th>8</th>\n",
       "      <td>-1.787297</td>\n",
       "      <td>3.872569</td>\n",
       "      <td>-5.011366</td>\n",
       "    </tr>\n",
       "    <tr>\n",
       "      <th>9</th>\n",
       "      <td>9.449999</td>\n",
       "      <td>-8.082988</td>\n",
       "      <td>36.702239</td>\n",
       "    </tr>\n",
       "    <tr>\n",
       "      <th>10</th>\n",
       "      <td>6.625432</td>\n",
       "      <td>-6.661415</td>\n",
       "      <td>24.913168</td>\n",
       "    </tr>\n",
       "    <tr>\n",
       "      <th>11</th>\n",
       "      <td>4.358884</td>\n",
       "      <td>-5.724396</td>\n",
       "      <td>15.285375</td>\n",
       "    </tr>\n",
       "    <tr>\n",
       "      <th>12</th>\n",
       "      <td>1.065686</td>\n",
       "      <td>-4.885047</td>\n",
       "      <td>0.866637</td>\n",
       "    </tr>\n",
       "    <tr>\n",
       "      <th>13</th>\n",
       "      <td>4.663147</td>\n",
       "      <td>-10.259759</td>\n",
       "      <td>12.946403</td>\n",
       "    </tr>\n",
       "    <tr>\n",
       "      <th>14</th>\n",
       "      <td>3.699034</td>\n",
       "      <td>3.577962</td>\n",
       "      <td>19.918595</td>\n",
       "    </tr>\n",
       "  </tbody>\n",
       "</table>\n",
       "</div>"
      ],
      "text/plain": [
       "           x          y          z\n",
       "0  -2.745019   1.556798 -11.312724\n",
       "1   0.440728  -1.484032   0.800020\n",
       "2   0.084700   2.771850   2.671322\n",
       "3   0.281009  -8.789957  -5.949453\n",
       "4  -1.225987  -7.467672 -11.774966\n",
       "5   1.922336   6.751015  14.379789\n",
       "6  -4.181114  12.975809  -8.497976\n",
       "7  -6.991517  10.304967 -23.592283\n",
       "8  -1.787297   3.872569  -5.011366\n",
       "9   9.449999  -8.082988  36.702239\n",
       "10  6.625432  -6.661415  24.913168\n",
       "11  4.358884  -5.724396  15.285375\n",
       "12  1.065686  -4.885047   0.866637\n",
       "13  4.663147 -10.259759  12.946403\n",
       "14  3.699034   3.577962  19.918595"
      ]
     },
     "execution_count": 2,
     "metadata": {},
     "output_type": "execute_result"
    }
   ],
   "source": [
    "features = ['x', 'y', 'z']\n",
    "\n",
    "# Separating out the features\n",
    "A = df.loc[:, features].values #df.loc accesses a group of rows or columns\n",
    "\n",
    "# Standardizing the features by subtracting the mean\n",
    "mean_vec = np.mean(A, axis=0) #creating vector of means\n",
    "A1 = A - mean_vec #subtracting the means and normalizing\n",
    "\n",
    "pd.DataFrame(data = A1, columns = features).head(15)"
   ]
  },
  {
   "cell_type": "markdown",
   "metadata": {},
   "source": [
    "### Find Covariance Matrix"
   ]
  },
  {
   "cell_type": "code",
   "execution_count": 13,
   "metadata": {},
   "outputs": [
    {
     "name": "stdout",
     "output_type": "stream",
     "text": [
      "[[ 10.97360854 -17.18127981  36.20020874]\n",
      " [-17.18127981  52.54565017 -35.55886604]\n",
      " [ 36.20020874 -35.55886604 136.81130334]]\n"
     ]
    },
    {
     "data": {
      "text/plain": [
       "(3, 3)"
      ]
     },
     "execution_count": 13,
     "metadata": {},
     "output_type": "execute_result"
    }
   ],
   "source": [
    "M = np.cov(A1.T)\n",
    "print(M)\n",
    "M.shape"
   ]
  },
  {
   "cell_type": "markdown",
   "metadata": {},
   "source": [
    "### Find Eigenvalues and Eigenvectors"
   ]
  },
  {
   "cell_type": "code",
   "execution_count": 52,
   "metadata": {},
   "outputs": [
    {
     "name": "stdout",
     "output_type": "stream",
     "text": [
      "[1.60467851e+02 3.21964677e-15 3.98627106e+01]\n",
      "[[ 0.25804047 -0.96237642 -0.08512783]\n",
      " [-0.33914995 -0.17273423  0.92473791]\n",
      " [ 0.90465044  0.20974871  0.37096234]]\n"
     ]
    }
   ],
   "source": [
    "e, v = np.linalg.eig(M) \n",
    "# finds the eigenvalues and vectors and stores them separately into e and then v\n",
    "print (e)\n",
    "print (v)"
   ]
  },
  {
   "cell_type": "markdown",
   "metadata": {},
   "source": [
    "### Sort Eigenvalues/vectors Largest to Smallest"
   ]
  },
  {
   "cell_type": "code",
   "execution_count": 53,
   "metadata": {},
   "outputs": [
    {
     "name": "stdout",
     "output_type": "stream",
     "text": [
      "[[ 0.25804047 -0.08512783 -0.96237642]\n",
      " [-0.33914995  0.92473791 -0.17273423]\n",
      " [ 0.90465044  0.37096234  0.20974871]]\n"
     ]
    }
   ],
   "source": [
    "idx = np.argsort(e)[::-1]\n",
    "e = e[idx] #orders eigen values based on index of largest to smallest eigenvalues\n",
    "e = np.real_if_close(e) #adjusts eigenvalues to be real numbers\n",
    "v = v[:, idx]#adjusts the eigenvectors to correspond to eigenvalues\n",
    "print(v)"
   ]
  },
  {
   "cell_type": "markdown",
   "metadata": {},
   "source": [
    "### Determine Amount of Variance and Select Principle Components"
   ]
  },
  {
   "cell_type": "code",
   "execution_count": 54,
   "metadata": {},
   "outputs": [
    {
     "name": "stdout",
     "output_type": "stream",
     "text": [
      "[8.01015331e-01 1.98984669e-01 1.60716704e-17]\n"
     ]
    }
   ],
   "source": [
    "expvar = e/e.sum() #will give the percent of variance covered by each eigenvalue/vector\n",
    "print(expvar) "
   ]
  },
  {
   "cell_type": "markdown",
   "metadata": {},
   "source": [
    "### Selecting PCs"
   ]
  },
  {
   "cell_type": "code",
   "execution_count": 55,
   "metadata": {},
   "outputs": [
    {
     "name": "stdout",
     "output_type": "stream",
     "text": [
      "[160.46785145  39.86271061]\n",
      "[[ 0.25804047 -0.08512783]\n",
      " [-0.33914995  0.92473791]\n",
      " [ 0.90465044  0.37096234]]\n"
     ]
    },
    {
     "data": {
      "text/plain": [
       "(3, 2)"
      ]
     },
     "execution_count": 55,
     "metadata": {},
     "output_type": "execute_result"
    }
   ],
   "source": [
    "nvar = 3 #number of variables\n",
    "ncomp = 2 #number of components\n",
    "remove = nvar-ncomp\n",
    "e = e[0:-remove] #indexes from 0 to everything except for the remove indexes at the end\n",
    "print(e)\n",
    "v = v[:, :-remove] #all rows and all columns except the removed\n",
    "print(v)\n",
    "v.shape"
   ]
  },
  {
   "cell_type": "markdown",
   "metadata": {},
   "source": [
    "### Dimension Reduction and Change of Basis for PCA\n",
    "In this section we will perform matrix multiplication of the standardized data and the vectors of the principal components to get a new data matrix that will have n rows and m columns (where n= # of observations, and m= # of PCs)"
   ]
  },
  {
   "cell_type": "code",
   "execution_count": 56,
   "metadata": {},
   "outputs": [
    {
     "data": {
      "text/html": [
       "<div>\n",
       "<style scoped>\n",
       "    .dataframe tbody tr th:only-of-type {\n",
       "        vertical-align: middle;\n",
       "    }\n",
       "\n",
       "    .dataframe tbody tr th {\n",
       "        vertical-align: top;\n",
       "    }\n",
       "\n",
       "    .dataframe thead th {\n",
       "        text-align: right;\n",
       "    }\n",
       "</style>\n",
       "<table border=\"1\" class=\"dataframe\">\n",
       "  <thead>\n",
       "    <tr style=\"text-align: right;\">\n",
       "      <th></th>\n",
       "      <th>PC 1</th>\n",
       "      <th>PC 2</th>\n",
       "    </tr>\n",
       "  </thead>\n",
       "  <tbody>\n",
       "    <tr>\n",
       "      <th>0</th>\n",
       "      <td>-11.470375</td>\n",
       "      <td>-2.523287</td>\n",
       "    </tr>\n",
       "    <tr>\n",
       "      <th>1</th>\n",
       "      <td>1.340774</td>\n",
       "      <td>-1.113082</td>\n",
       "    </tr>\n",
       "    <tr>\n",
       "      <th>2</th>\n",
       "      <td>1.498396</td>\n",
       "      <td>3.546984</td>\n",
       "    </tr>\n",
       "    <tr>\n",
       "      <th>3</th>\n",
       "      <td>-2.328550</td>\n",
       "      <td>-10.359351</td>\n",
       "    </tr>\n",
       "    <tr>\n",
       "      <th>4</th>\n",
       "      <td>-8.435922</td>\n",
       "      <td>-11.169342</td>\n",
       "    </tr>\n",
       "    <tr>\n",
       "      <th>5</th>\n",
       "      <td>11.215117</td>\n",
       "      <td>11.413635</td>\n",
       "    </tr>\n",
       "    <tr>\n",
       "      <th>6</th>\n",
       "      <td>-13.167340</td>\n",
       "      <td>9.202723</td>\n",
       "    </tr>\n",
       "    <tr>\n",
       "      <th>7</th>\n",
       "      <td>-26.641793</td>\n",
       "      <td>1.372718</td>\n",
       "    </tr>\n",
       "    <tr>\n",
       "      <th>8</th>\n",
       "      <td>-6.308111</td>\n",
       "      <td>1.874232</td>\n",
       "    </tr>\n",
       "    <tr>\n",
       "      <th>9</th>\n",
       "      <td>38.382524</td>\n",
       "      <td>5.336045</td>\n",
       "    </tr>\n",
       "    <tr>\n",
       "      <th>10</th>\n",
       "      <td>26.506556</td>\n",
       "      <td>2.517775</td>\n",
       "    </tr>\n",
       "    <tr>\n",
       "      <th>11</th>\n",
       "      <td>16.894118</td>\n",
       "      <td>0.005670</td>\n",
       "    </tr>\n",
       "    <tr>\n",
       "      <th>12</th>\n",
       "      <td>2.715757</td>\n",
       "      <td>-4.286618</td>\n",
       "    </tr>\n",
       "    <tr>\n",
       "      <th>13</th>\n",
       "      <td>16.394847</td>\n",
       "      <td>-5.081924</td>\n",
       "    </tr>\n",
       "    <tr>\n",
       "      <th>14</th>\n",
       "      <td>17.760401</td>\n",
       "      <td>10.382835</td>\n",
       "    </tr>\n",
       "  </tbody>\n",
       "</table>\n",
       "</div>"
      ],
      "text/plain": [
       "         PC 1       PC 2\n",
       "0  -11.470375  -2.523287\n",
       "1    1.340774  -1.113082\n",
       "2    1.498396   3.546984\n",
       "3   -2.328550 -10.359351\n",
       "4   -8.435922 -11.169342\n",
       "5   11.215117  11.413635\n",
       "6  -13.167340   9.202723\n",
       "7  -26.641793   1.372718\n",
       "8   -6.308111   1.874232\n",
       "9   38.382524   5.336045\n",
       "10  26.506556   2.517775\n",
       "11  16.894118   0.005670\n",
       "12   2.715757  -4.286618\n",
       "13  16.394847  -5.081924\n",
       "14  17.760401  10.382835"
      ]
     },
     "execution_count": 56,
     "metadata": {},
     "output_type": "execute_result"
    }
   ],
   "source": [
    "PCdata = A1.dot(v)\n",
    "PCdata.shape\n",
    "principalDf = pd.DataFrame(data = PCdata\n",
    "             , columns = ['PC 1', 'PC 2'])\n",
    "principalDf.head(15)"
   ]
  },
  {
   "cell_type": "markdown",
   "metadata": {},
   "source": [
    "### Plot Data in Reduced Dimensions"
   ]
  },
  {
   "cell_type": "code",
   "execution_count": 57,
   "metadata": {},
   "outputs": [
    {
     "data": {
      "image/png": "[encoded data removed]",
      "text/plain": [
       "<Figure size 576x576 with 1 Axes>"
      ]
     },
     "metadata": {},
     "output_type": "display_data"
    }
   ],
   "source": [
    "fig = plt.figure(figsize = (8,8))\n",
    "ax = fig.add_subplot(1,1,1) \n",
    "ax.set_xlabel('Principal Component 1', fontsize = 15)\n",
    "ax.set_ylabel('Principal Component 2', fontsize = 15)\n",
    "ax.set_title('2 Component PCA', fontsize = 20)\n",
    "\n",
    "ax.scatter(principalDf.loc[:, 'PC 1']\n",
    "               , principalDf.loc[:, 'PC 2']\n",
    "               , s = 50)\n",
    "ax.grid()"
   ]
  },
  {
   "cell_type": "markdown",
   "metadata": {},
   "source": [
    "# Test against PCA packages"
   ]
  },
  {
   "cell_type": "markdown",
   "metadata": {},
   "source": [
    "## Probabilistic PCA"
   ]
  },
  {
   "cell_type": "code",
   "execution_count": 58,
   "metadata": {},
   "outputs": [
    {
     "data": {
      "text/html": [
       "<div>\n",
       "<style scoped>\n",
       "    .dataframe tbody tr th:only-of-type {\n",
       "        vertical-align: middle;\n",
       "    }\n",
       "\n",
       "    .dataframe tbody tr th {\n",
       "        vertical-align: top;\n",
       "    }\n",
       "\n",
       "    .dataframe thead th {\n",
       "        text-align: right;\n",
       "    }\n",
       "</style>\n",
       "<table border=\"1\" class=\"dataframe\">\n",
       "  <thead>\n",
       "    <tr style=\"text-align: right;\">\n",
       "      <th></th>\n",
       "      <th>PC 1</th>\n",
       "      <th>PC 2</th>\n",
       "    </tr>\n",
       "  </thead>\n",
       "  <tbody>\n",
       "    <tr>\n",
       "      <th>0</th>\n",
       "      <td>1.206339</td>\n",
       "      <td>-0.479389</td>\n",
       "    </tr>\n",
       "    <tr>\n",
       "      <th>1</th>\n",
       "      <td>-0.228973</td>\n",
       "      <td>-0.111861</td>\n",
       "    </tr>\n",
       "    <tr>\n",
       "      <th>2</th>\n",
       "      <td>0.043412</td>\n",
       "      <td>0.446270</td>\n",
       "    </tr>\n",
       "    <tr>\n",
       "      <th>3</th>\n",
       "      <td>-0.370284</td>\n",
       "      <td>-1.271515</td>\n",
       "    </tr>\n",
       "    <tr>\n",
       "      <th>4</th>\n",
       "      <td>0.305359</td>\n",
       "      <td>-1.463145</td>\n",
       "    </tr>\n",
       "    <tr>\n",
       "      <th>5</th>\n",
       "      <td>-0.620579</td>\n",
       "      <td>1.535526</td>\n",
       "    </tr>\n",
       "    <tr>\n",
       "      <th>6</th>\n",
       "      <td>2.140688</td>\n",
       "      <td>0.892444</td>\n",
       "    </tr>\n",
       "    <tr>\n",
       "      <th>7</th>\n",
       "      <td>3.253811</td>\n",
       "      <td>-0.250921</td>\n",
       "    </tr>\n",
       "    <tr>\n",
       "      <th>8</th>\n",
       "      <td>0.867205</td>\n",
       "      <td>0.125320</td>\n",
       "    </tr>\n",
       "    <tr>\n",
       "      <th>9</th>\n",
       "      <td>-4.230819</td>\n",
       "      <td>1.233604</td>\n",
       "    </tr>\n",
       "    <tr>\n",
       "      <th>10</th>\n",
       "      <td>-2.994679</td>\n",
       "      <td>0.712729</td>\n",
       "    </tr>\n",
       "    <tr>\n",
       "      <th>11</th>\n",
       "      <td>-2.008575</td>\n",
       "      <td>0.263587</td>\n",
       "    </tr>\n",
       "    <tr>\n",
       "      <th>12</th>\n",
       "      <td>-0.590736</td>\n",
       "      <td>-0.468885</td>\n",
       "    </tr>\n",
       "    <tr>\n",
       "      <th>13</th>\n",
       "      <td>-2.267042</td>\n",
       "      <td>-0.350841</td>\n",
       "    </tr>\n",
       "    <tr>\n",
       "      <th>14</th>\n",
       "      <td>-1.463295</td>\n",
       "      <td>1.514470</td>\n",
       "    </tr>\n",
       "  </tbody>\n",
       "</table>\n",
       "</div>"
      ],
      "text/plain": [
       "        PC 1      PC 2\n",
       "0   1.206339 -0.479389\n",
       "1  -0.228973 -0.111861\n",
       "2   0.043412  0.446270\n",
       "3  -0.370284 -1.271515\n",
       "4   0.305359 -1.463145\n",
       "5  -0.620579  1.535526\n",
       "6   2.140688  0.892444\n",
       "7   3.253811 -0.250921\n",
       "8   0.867205  0.125320\n",
       "9  -4.230819  1.233604\n",
       "10 -2.994679  0.712729\n",
       "11 -2.008575  0.263587\n",
       "12 -0.590736 -0.468885\n",
       "13 -2.267042 -0.350841\n",
       "14 -1.463295  1.514470"
      ]
     },
     "execution_count": 58,
     "metadata": {},
     "output_type": "execute_result"
    }
   ],
   "source": [
    "from sklearn.decomposition import PCA\n",
    "\n",
    "A2 = StandardScaler().fit_transform(A) #subtracts the mean\n",
    "\n",
    "#choosing 2 principal components and assigning them to the variable \"pca\"\n",
    "pca = PCA(n_components=2) \n",
    "\n",
    "#gives you 2D data, with 2 principle components\n",
    "principalComponents = pca.fit_transform(A2) \n",
    "principalDf1 = pd.DataFrame(data = principalComponents\n",
    "             , columns = ['PC 1', 'PC 2'])\n",
    "\n",
    "principalDf1.head(15)"
   ]
  },
  {
   "cell_type": "code",
   "execution_count": 59,
   "metadata": {},
   "outputs": [
    {
     "data": {
      "image/png": "[encoded data removed]",
      "text/plain": [
       "<Figure size 576x576 with 1 Axes>"
      ]
     },
     "metadata": {},
     "output_type": "display_data"
    }
   ],
   "source": [
    "fig = plt.figure(figsize = (8,8))\n",
    "ax = fig.add_subplot(1,1,1) \n",
    "ax.set_xlabel('Principal Component 1', fontsize = 15)\n",
    "ax.set_ylabel('Principal Component 2', fontsize = 15)\n",
    "ax.set_title('2 Component PPCA', fontsize = 20)\n",
    "\n",
    "ax.scatter(principalDf1.loc[:, 'PC 1']\n",
    "               , principalDf1.loc[:, 'PC 2']\n",
    "               , s = 50)\n",
    "ax.grid()"
   ]
  },
  {
   "cell_type": "markdown",
   "metadata": {},
   "source": [
    "### PCA vs. Probablistic PCA\n",
    "\n",
    "Significant difference...\n",
    "- PCA only defines a linear projection of the data so the scope of its application is necessarily somewhat limited \n",
    "- Probabilistic PCA is an attempt to account for that and achieve nonlinear PCA in an effort to retain a greater proportion of the variance using fewer components. \n"
   ]
  },
  {
   "cell_type": "code",
   "execution_count": null,
   "metadata": {},
   "outputs": [],
   "source": []
  }
 ],
 "metadata": {
  "kernelspec": {
   "display_name": "Python 3",
   "language": "python",
   "name": "python3"
  },
  "language_info": {
   "codemirror_mode": {
    "name": "ipython",
    "version": 3
   },
   "file_extension": ".py",
   "mimetype": "text/x-python",
   "name": "python",
   "nbconvert_exporter": "python",
   "pygments_lexer": "ipython3",
   "version": "3.6.5"
  }
 },
 "nbformat": 4,
 "nbformat_minor": 2
}
