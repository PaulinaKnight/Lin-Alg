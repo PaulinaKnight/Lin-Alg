{
 "cells": [
  {
   "cell_type": "markdown",
   "metadata": {},
   "source": [
    "# Dimension Reduction and PCA"
   ]
  },
  {
   "cell_type": "markdown",
   "metadata": {},
   "source": [
    "### Create 2D Data Set with 3 Variables"
   ]
  },
  {
   "cell_type": "code",
   "execution_count": 2,
   "metadata": {},
   "outputs": [
    {
     "data": {
      "text/html": [
       "<div>\n",
       "<style scoped>\n",
       "    .dataframe tbody tr th:only-of-type {\n",
       "        vertical-align: middle;\n",
       "    }\n",
       "\n",
       "    .dataframe tbody tr th {\n",
       "        vertical-align: top;\n",
       "    }\n",
       "\n",
       "    .dataframe thead th {\n",
       "        text-align: right;\n",
       "    }\n",
       "</style>\n",
       "<table border=\"1\" class=\"dataframe\">\n",
       "  <thead>\n",
       "    <tr style=\"text-align: right;\">\n",
       "      <th></th>\n",
       "      <th>x</th>\n",
       "      <th>y</th>\n",
       "      <th>z</th>\n",
       "    </tr>\n",
       "  </thead>\n",
       "  <tbody>\n",
       "    <tr>\n",
       "      <th>0</th>\n",
       "      <td>5.447179</td>\n",
       "      <td>-8.112540</td>\n",
       "      <td>18.312023</td>\n",
       "    </tr>\n",
       "    <tr>\n",
       "      <th>1</th>\n",
       "      <td>-0.768064</td>\n",
       "      <td>6.395165</td>\n",
       "      <td>1.742550</td>\n",
       "    </tr>\n",
       "    <tr>\n",
       "      <th>2</th>\n",
       "      <td>-2.746815</td>\n",
       "      <td>16.243539</td>\n",
       "      <td>0.774000</td>\n",
       "    </tr>\n",
       "    <tr>\n",
       "      <th>3</th>\n",
       "      <td>7.319028</td>\n",
       "      <td>-2.486640</td>\n",
       "      <td>31.533601</td>\n",
       "    </tr>\n",
       "    <tr>\n",
       "      <th>4</th>\n",
       "      <td>1.259487</td>\n",
       "      <td>-0.722810</td>\n",
       "      <td>5.183567</td>\n",
       "    </tr>\n",
       "    <tr>\n",
       "      <th>5</th>\n",
       "      <td>-1.536002</td>\n",
       "      <td>1.433773</td>\n",
       "      <td>-5.866786</td>\n",
       "    </tr>\n",
       "    <tr>\n",
       "      <th>6</th>\n",
       "      <td>2.030294</td>\n",
       "      <td>-5.449732</td>\n",
       "      <td>4.827452</td>\n",
       "    </tr>\n",
       "    <tr>\n",
       "      <th>7</th>\n",
       "      <td>0.863018</td>\n",
       "      <td>-0.373378</td>\n",
       "      <td>3.652242</td>\n",
       "    </tr>\n",
       "    <tr>\n",
       "      <th>8</th>\n",
       "      <td>6.088988</td>\n",
       "      <td>-14.252296</td>\n",
       "      <td>16.200525</td>\n",
       "    </tr>\n",
       "    <tr>\n",
       "      <th>9</th>\n",
       "      <td>3.207231</td>\n",
       "      <td>-3.476075</td>\n",
       "      <td>11.852879</td>\n",
       "    </tr>\n",
       "    <tr>\n",
       "      <th>10</th>\n",
       "      <td>-2.764209</td>\n",
       "      <td>-0.463683</td>\n",
       "      <td>-13.064700</td>\n",
       "    </tr>\n",
       "    <tr>\n",
       "      <th>11</th>\n",
       "      <td>6.114248</td>\n",
       "      <td>-4.818190</td>\n",
       "      <td>24.085688</td>\n",
       "    </tr>\n",
       "    <tr>\n",
       "      <th>12</th>\n",
       "      <td>7.829136</td>\n",
       "      <td>-11.709054</td>\n",
       "      <td>26.279167</td>\n",
       "    </tr>\n",
       "    <tr>\n",
       "      <th>13</th>\n",
       "      <td>-2.958101</td>\n",
       "      <td>5.481325</td>\n",
       "      <td>-9.058429</td>\n",
       "    </tr>\n",
       "    <tr>\n",
       "      <th>14</th>\n",
       "      <td>0.519995</td>\n",
       "      <td>6.198087</td>\n",
       "      <td>7.490168</td>\n",
       "    </tr>\n",
       "  </tbody>\n",
       "</table>\n",
       "</div>"
      ],
      "text/plain": [
       "           x          y          z\n",
       "0   5.447179  -8.112540  18.312023\n",
       "1  -0.768064   6.395165   1.742550\n",
       "2  -2.746815  16.243539   0.774000\n",
       "3   7.319028  -2.486640  31.533601\n",
       "4   1.259487  -0.722810   5.183567\n",
       "5  -1.536002   1.433773  -5.866786\n",
       "6   2.030294  -5.449732   4.827452\n",
       "7   0.863018  -0.373378   3.652242\n",
       "8   6.088988 -14.252296  16.200525\n",
       "9   3.207231  -3.476075  11.852879\n",
       "10 -2.764209  -0.463683 -13.064700\n",
       "11  6.114248  -4.818190  24.085688\n",
       "12  7.829136 -11.709054  26.279167\n",
       "13 -2.958101   5.481325  -9.058429\n",
       "14  0.519995   6.198087   7.490168"
      ]
     },
     "execution_count": 2,
     "metadata": {},
     "output_type": "execute_result"
    }
   ],
   "source": [
    "import pandas as pd \n",
    "import numpy as np\n",
    "import matplotlib.pyplot as plt\n",
    "from sklearn.preprocessing import StandardScaler\n",
    "%matplotlib inline\n",
    "\n",
    "a = np.random.normal(0, 1, 100) \n",
    "b = np.random.normal(0, 1, 100)\n",
    "\n",
    "x = (3*a) - (2*b)\n",
    "y = (-7*a) - b\n",
    "z = (8*a) - (10*b)\n",
    "\n",
    "A = np.row_stack([x, y, z]) #places data into a matrix stacking each variable as a row (not column)\n",
    "A = A.T\n",
    "df = pd.DataFrame(data= A\n",
    "                 , columns =['x','y','z'])\n",
    "df.head(15)"
   ]
  },
  {
   "cell_type": "markdown",
   "metadata": {},
   "source": [
    "### Standardize Data"
   ]
  },
  {
   "cell_type": "code",
   "execution_count": 5,
   "metadata": {},
   "outputs": [
    {
     "data": {
      "text/html": [
       "<div>\n",
       "<style scoped>\n",
       "    .dataframe tbody tr th:only-of-type {\n",
       "        vertical-align: middle;\n",
       "    }\n",
       "\n",
       "    .dataframe tbody tr th {\n",
       "        vertical-align: top;\n",
       "    }\n",
       "\n",
       "    .dataframe thead th {\n",
       "        text-align: right;\n",
       "    }\n",
       "</style>\n",
       "<table border=\"1\" class=\"dataframe\">\n",
       "  <thead>\n",
       "    <tr style=\"text-align: right;\">\n",
       "      <th></th>\n",
       "      <th>x</th>\n",
       "      <th>y</th>\n",
       "      <th>z</th>\n",
       "    </tr>\n",
       "  </thead>\n",
       "  <tbody>\n",
       "    <tr>\n",
       "      <th>0</th>\n",
       "      <td>1.499932</td>\n",
       "      <td>-1.418891</td>\n",
       "      <td>1.273882</td>\n",
       "    </tr>\n",
       "    <tr>\n",
       "      <th>1</th>\n",
       "      <td>-0.369507</td>\n",
       "      <td>0.963613</td>\n",
       "      <td>-0.064994</td>\n",
       "    </tr>\n",
       "    <tr>\n",
       "      <th>2</th>\n",
       "      <td>-0.964681</td>\n",
       "      <td>2.580945</td>\n",
       "      <td>-0.143257</td>\n",
       "    </tr>\n",
       "    <tr>\n",
       "      <th>3</th>\n",
       "      <td>2.062952</td>\n",
       "      <td>-0.494987</td>\n",
       "      <td>2.342236</td>\n",
       "    </tr>\n",
       "    <tr>\n",
       "      <th>4</th>\n",
       "      <td>0.240346</td>\n",
       "      <td>-0.205325</td>\n",
       "      <td>0.213053</td>\n",
       "    </tr>\n",
       "    <tr>\n",
       "      <th>5</th>\n",
       "      <td>-0.600490</td>\n",
       "      <td>0.148837</td>\n",
       "      <td>-0.679858</td>\n",
       "    </tr>\n",
       "    <tr>\n",
       "      <th>6</th>\n",
       "      <td>0.472191</td>\n",
       "      <td>-0.981595</td>\n",
       "      <td>0.184277</td>\n",
       "    </tr>\n",
       "    <tr>\n",
       "      <th>7</th>\n",
       "      <td>0.121095</td>\n",
       "      <td>-0.147940</td>\n",
       "      <td>0.089316</td>\n",
       "    </tr>\n",
       "    <tr>\n",
       "      <th>8</th>\n",
       "      <td>1.692977</td>\n",
       "      <td>-2.427182</td>\n",
       "      <td>1.103265</td>\n",
       "    </tr>\n",
       "    <tr>\n",
       "      <th>9</th>\n",
       "      <td>0.826194</td>\n",
       "      <td>-0.657475</td>\n",
       "      <td>0.751959</td>\n",
       "    </tr>\n",
       "    <tr>\n",
       "      <th>10</th>\n",
       "      <td>-0.969913</td>\n",
       "      <td>-0.162770</td>\n",
       "      <td>-1.261477</td>\n",
       "    </tr>\n",
       "    <tr>\n",
       "      <th>11</th>\n",
       "      <td>1.700575</td>\n",
       "      <td>-0.877882</td>\n",
       "      <td>1.740416</td>\n",
       "    </tr>\n",
       "    <tr>\n",
       "      <th>12</th>\n",
       "      <td>2.216384</td>\n",
       "      <td>-2.009522</td>\n",
       "      <td>1.917658</td>\n",
       "    </tr>\n",
       "    <tr>\n",
       "      <th>13</th>\n",
       "      <td>-1.028232</td>\n",
       "      <td>0.813539</td>\n",
       "      <td>-0.937755</td>\n",
       "    </tr>\n",
       "    <tr>\n",
       "      <th>14</th>\n",
       "      <td>0.017919</td>\n",
       "      <td>0.931248</td>\n",
       "      <td>0.399435</td>\n",
       "    </tr>\n",
       "  </tbody>\n",
       "</table>\n",
       "</div>"
      ],
      "text/plain": [
       "           x         y         z\n",
       "0   1.499932 -1.418891  1.273882\n",
       "1  -0.369507  0.963613 -0.064994\n",
       "2  -0.964681  2.580945 -0.143257\n",
       "3   2.062952 -0.494987  2.342236\n",
       "4   0.240346 -0.205325  0.213053\n",
       "5  -0.600490  0.148837 -0.679858\n",
       "6   0.472191 -0.981595  0.184277\n",
       "7   0.121095 -0.147940  0.089316\n",
       "8   1.692977 -2.427182  1.103265\n",
       "9   0.826194 -0.657475  0.751959\n",
       "10 -0.969913 -0.162770 -1.261477\n",
       "11  1.700575 -0.877882  1.740416\n",
       "12  2.216384 -2.009522  1.917658\n",
       "13 -1.028232  0.813539 -0.937755\n",
       "14  0.017919  0.931248  0.399435"
      ]
     },
     "execution_count": 5,
     "metadata": {},
     "output_type": "execute_result"
    }
   ],
   "source": [
    "features = ['x', 'y', 'z']\n",
    "\n",
    "# Separating out the features\n",
    "A = df.loc[:, features].values #df.loc accesses a group of rows or columns\n",
    "\n",
    "# Standardizing the features by subtracting the mean\n",
    "A1 = StandardScaler().fit_transform(A)\n",
    "\n",
    "pd.DataFrame(data = A1, columns = features).head(15)"
   ]
  },
  {
   "cell_type": "markdown",
   "metadata": {},
   "source": [
    "### Find Covariance Matrix"
   ]
  },
  {
   "cell_type": "code",
   "execution_count": 6,
   "metadata": {},
   "outputs": [
    {
     "name": "stdout",
     "output_type": "stream",
     "text": [
      "[[ 1.01010101 -0.69116173  0.96499402]\n",
      " [-0.69116173  1.01010101 -0.44263117]\n",
      " [ 0.96499402 -0.44263117  1.01010101]]\n"
     ]
    },
    {
     "data": {
      "text/plain": [
       "(3, 3)"
      ]
     },
     "execution_count": 6,
     "metadata": {},
     "output_type": "execute_result"
    }
   ],
   "source": [
    "M = np.cov(A1.T)\n",
    "print(M)\n",
    "M.shape"
   ]
  },
  {
   "cell_type": "markdown",
   "metadata": {},
   "source": [
    "### Find Eigenvalues and Eigenvectors"
   ]
  },
  {
   "cell_type": "code",
   "execution_count": 7,
   "metadata": {},
   "outputs": [
    {
     "name": "stdout",
     "output_type": "stream",
     "text": [
      "[ 2.43145513e+00 -1.74502340e-16  5.98847897e-01]\n",
      "[[ 0.63985755 -0.75244156  0.15624984]\n",
      " [-0.49437091 -0.24735717  0.83331377]\n",
      " [ 0.58837039  0.61044748  0.53025857]]\n"
     ]
    }
   ],
   "source": [
    "e, v = np.linalg.eig(M) #command finds the eigenvalues and vectors associated, stores them separately into e and then v\n",
    "print (e)\n",
    "print (v)"
   ]
  },
  {
   "cell_type": "markdown",
   "metadata": {},
   "source": [
    "### Sort Eigenvalues/vectors Largest to Smallest"
   ]
  },
  {
   "cell_type": "code",
   "execution_count": 8,
   "metadata": {},
   "outputs": [],
   "source": [
    "idx = np.argsort(e)[::-1]\n",
    "e = e[idx] #orders eigen values based on index of largest to smallest eigenvalues\n",
    "e = np.real_if_close(e) #adjusts eigenvalues to be real numbers\n",
    "v = v[:, idx] #adjusts the eigenvectors to correspond to eigenvalues"
   ]
  },
  {
   "cell_type": "markdown",
   "metadata": {},
   "source": [
    "### Determine Amount of Variance and Select Principle Components"
   ]
  },
  {
   "cell_type": "code",
   "execution_count": 9,
   "metadata": {},
   "outputs": [
    {
     "name": "stdout",
     "output_type": "stream",
     "text": [
      "[ 8.02380194e-01  1.97619806e-01 -5.75857721e-17]\n"
     ]
    }
   ],
   "source": [
    "expvar = e/e.sum() #will give the percent of variance covered by each eigenvalue/vector\n",
    "print(expvar) "
   ]
  },
  {
   "cell_type": "markdown",
   "metadata": {},
   "source": [
    "### Selecting PCs"
   ]
  },
  {
   "cell_type": "code",
   "execution_count": 10,
   "metadata": {},
   "outputs": [
    {
     "name": "stdout",
     "output_type": "stream",
     "text": [
      "[2.43145513 0.5988479 ]\n",
      "[[ 0.63985755  0.15624984 -0.75244156]\n",
      " [-0.49437091  0.83331377 -0.24735717]]\n"
     ]
    },
    {
     "data": {
      "text/plain": [
       "(2, 3)"
      ]
     },
     "execution_count": 10,
     "metadata": {},
     "output_type": "execute_result"
    }
   ],
   "source": [
    "cutoff = 0.05\n",
    "cutind = np.where(expvar > cutoff)\n",
    "e = e[cutind]\n",
    "print(e)\n",
    "v = v[cutind]\n",
    "print(v)\n",
    "v.shape"
   ]
  },
  {
   "cell_type": "markdown",
   "metadata": {},
   "source": [
    "### Dimension Reduction and Change of Basis for PCA\n",
    "In this section we will perform matrix multiplication of the standardized data and the vectors of the principal components to get a new data matrix that will have n rows and m columns (where n= # of observations, and m= # of PCs)"
   ]
  },
  {
   "cell_type": "code",
   "execution_count": 11,
   "metadata": {},
   "outputs": [
    {
     "data": {
      "text/html": [
       "<div>\n",
       "<style scoped>\n",
       "    .dataframe tbody tr th:only-of-type {\n",
       "        vertical-align: middle;\n",
       "    }\n",
       "\n",
       "    .dataframe tbody tr th {\n",
       "        vertical-align: top;\n",
       "    }\n",
       "\n",
       "    .dataframe thead th {\n",
       "        text-align: right;\n",
       "    }\n",
       "</style>\n",
       "<table border=\"1\" class=\"dataframe\">\n",
       "  <thead>\n",
       "    <tr style=\"text-align: right;\">\n",
       "      <th></th>\n",
       "      <th>PC 1</th>\n",
       "      <th>PC 2</th>\n",
       "    </tr>\n",
       "  </thead>\n",
       "  <tbody>\n",
       "    <tr>\n",
       "      <th>0</th>\n",
       "      <td>-0.220481</td>\n",
       "      <td>-2.239008</td>\n",
       "    </tr>\n",
       "    <tr>\n",
       "      <th>1</th>\n",
       "      <td>-0.036963</td>\n",
       "      <td>1.001742</td>\n",
       "    </tr>\n",
       "    <tr>\n",
       "      <th>2</th>\n",
       "      <td>-0.106194</td>\n",
       "      <td>2.663083</td>\n",
       "    </tr>\n",
       "    <tr>\n",
       "      <th>3</th>\n",
       "      <td>-0.519742</td>\n",
       "      <td>-2.011711</td>\n",
       "    </tr>\n",
       "    <tr>\n",
       "      <th>4</th>\n",
       "      <td>-0.038605</td>\n",
       "      <td>-0.342620</td>\n",
       "    </tr>\n",
       "    <tr>\n",
       "      <th>5</th>\n",
       "      <td>0.150581</td>\n",
       "      <td>0.589060</td>\n",
       "    </tr>\n",
       "    <tr>\n",
       "      <th>6</th>\n",
       "      <td>0.010103</td>\n",
       "      <td>-1.096997</td>\n",
       "    </tr>\n",
       "    <tr>\n",
       "      <th>7</th>\n",
       "      <td>-0.012837</td>\n",
       "      <td>-0.205239</td>\n",
       "    </tr>\n",
       "    <tr>\n",
       "      <th>8</th>\n",
       "      <td>-0.126125</td>\n",
       "      <td>-3.132463</td>\n",
       "    </tr>\n",
       "    <tr>\n",
       "      <th>9</th>\n",
       "      <td>-0.139889</td>\n",
       "      <td>-1.142331</td>\n",
       "    </tr>\n",
       "    <tr>\n",
       "      <th>10</th>\n",
       "      <td>0.303149</td>\n",
       "      <td>0.655894</td>\n",
       "    </tr>\n",
       "    <tr>\n",
       "      <th>11</th>\n",
       "      <td>-0.358605</td>\n",
       "      <td>-2.002770</td>\n",
       "    </tr>\n",
       "    <tr>\n",
       "      <th>12</th>\n",
       "      <td>-0.338743</td>\n",
       "      <td>-3.244624</td>\n",
       "    </tr>\n",
       "    <tr>\n",
       "      <th>13</th>\n",
       "      <td>0.174799</td>\n",
       "      <td>1.418222</td>\n",
       "    </tr>\n",
       "    <tr>\n",
       "      <th>14</th>\n",
       "      <td>-0.143578</td>\n",
       "      <td>0.668360</td>\n",
       "    </tr>\n",
       "  </tbody>\n",
       "</table>\n",
       "</div>"
      ],
      "text/plain": [
       "        PC 1      PC 2\n",
       "0  -0.220481 -2.239008\n",
       "1  -0.036963  1.001742\n",
       "2  -0.106194  2.663083\n",
       "3  -0.519742 -2.011711\n",
       "4  -0.038605 -0.342620\n",
       "5   0.150581  0.589060\n",
       "6   0.010103 -1.096997\n",
       "7  -0.012837 -0.205239\n",
       "8  -0.126125 -3.132463\n",
       "9  -0.139889 -1.142331\n",
       "10  0.303149  0.655894\n",
       "11 -0.358605 -2.002770\n",
       "12 -0.338743 -3.244624\n",
       "13  0.174799  1.418222\n",
       "14 -0.143578  0.668360"
      ]
     },
     "execution_count": 11,
     "metadata": {},
     "output_type": "execute_result"
    }
   ],
   "source": [
    "PCdata = A1.dot(v.T)\n",
    "PCdata.shape\n",
    "principalDf = pd.DataFrame(data = PCdata\n",
    "             , columns = ['PC 1', 'PC 2'])\n",
    "principalDf.head(15)"
   ]
  },
  {
   "cell_type": "code",
   "execution_count": null,
   "metadata": {},
   "outputs": [],
   "source": []
  }
 ],
 "metadata": {
  "kernelspec": {
   "display_name": "Python 3",
   "language": "python",
   "name": "python3"
  },
  "language_info": {
   "codemirror_mode": {
    "name": "ipython",
    "version": 3
   },
   "file_extension": ".py",
   "mimetype": "text/x-python",
   "name": "python",
   "nbconvert_exporter": "python",
   "pygments_lexer": "ipython3",
   "version": "3.6.5"
  }
 },
 "nbformat": 4,
 "nbformat_minor": 2
}
